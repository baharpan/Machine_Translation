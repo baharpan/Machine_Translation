{
 "cells": [
  {
   "cell_type": "code",
   "execution_count": 131,
   "metadata": {
    "collapsed": true
   },
   "outputs": [],
   "source": [
    "#nltk is tokenizer (http://www.nltk.org/)"
   ]
  },
  {
   "cell_type": "code",
   "execution_count": 22,
   "metadata": {
    "collapsed": false
   },
   "outputs": [],
   "source": [
    "import nltk\n",
    "from nltk.corpus import treebank\n",
    "import numpy as np"
   ]
  },
  {
   "cell_type": "code",
   "execution_count": 4,
   "metadata": {
    "collapsed": false
   },
   "outputs": [
    {
     "data": {
      "text/plain": [
       "['At',\n",
       " 'eight',\n",
       " \"o'clock\",\n",
       " 'on',\n",
       " 'Thursday',\n",
       " 'morning',\n",
       " ',',\n",
       " 'Arthur',\n",
       " 'did',\n",
       " \"n't\",\n",
       " 'feel',\n",
       " 'very',\n",
       " 'good',\n",
       " '.']"
      ]
     },
     "execution_count": 4,
     "metadata": {},
     "output_type": "execute_result"
    }
   ],
   "source": [
    "sentence = \"At eight o'clock on Thursday morning, Arthur didn't feel very good.\"\n",
    "tokens = nltk.word_tokenize(sentence)\n",
    "tokens"
   ]
  },
  {
   "cell_type": "code",
   "execution_count": 8,
   "metadata": {
    "collapsed": false
   },
   "outputs": [
    {
     "data": {
      "text/plain": [
       "[('At', 'IN'),\n",
       " ('eight', 'CD'),\n",
       " (\"o'clock\", 'JJ'),\n",
       " ('on', 'IN'),\n",
       " ('Thursday', 'NNP'),\n",
       " ('morning', 'NN'),\n",
       " (',', ','),\n",
       " ('Arthur', 'NNP'),\n",
       " ('did', 'VBD'),\n",
       " (\"n't\", 'RB')]"
      ]
     },
     "execution_count": 8,
     "metadata": {},
     "output_type": "execute_result"
    }
   ],
   "source": [
    "tagged = nltk.pos_tag(tokens)\n",
    "tagged[0:10]\n"
   ]
  },
  {
   "cell_type": "code",
   "execution_count": 11,
   "metadata": {
    "collapsed": false
   },
   "outputs": [],
   "source": [
    "entities = nltk.chunk.ne_chunk(tagged)\n"
   ]
  },
  {
   "cell_type": "code",
   "execution_count": 16,
   "metadata": {
    "collapsed": false
   },
   "outputs": [],
   "source": [
    "t = treebank.parsed_sents('wsj_0001.mrg')[0]\n",
    "t.draw()"
   ]
  },
  {
   "cell_type": "code",
   "execution_count": 23,
   "metadata": {
    "collapsed": true
   },
   "outputs": [],
   "source": [
    "index_to_word = [x[0] for x in sentence]\n",
    "word_to_index = dict([(w,i) for i,w in enumerate(index_to_word)])"
   ]
  },
  {
   "cell_type": "code",
   "execution_count": 25,
   "metadata": {
    "collapsed": false
   },
   "outputs": [],
   "source": [
    "X_train = np.asarray([[word_to_index[w] for w in sent[:-1]] for sent in tokens])\n",
    "y_train = np.asarray([[word_to_index[w] for w in sent[1:]] for sent in tokens])"
   ]
  },
  {
   "cell_type": "code",
   "execution_count": 27,
   "metadata": {
    "collapsed": false
   },
   "outputs": [
    {
     "data": {
      "text/plain": [
       "array([[38], [58, 46, 62, 41], [64, 49, 14, 55, 64, 14], [64],\n",
       "       [20, 41, 42, 59, 24, 65, 26], [29, 64, 59, 48, 46, 48], [],\n",
       "       [38, 59, 50, 41, 42], [65, 46], [48, 49], [52, 58, 58],\n",
       "       [57, 58, 59], [62, 64, 64], []], dtype=object)"
      ]
     },
     "execution_count": 27,
     "metadata": {},
     "output_type": "execute_result"
    }
   ],
   "source": [
    "X_train"
   ]
  },
  {
   "cell_type": "code",
   "execution_count": 28,
   "metadata": {
    "collapsed": false
   },
   "outputs": [
    {
     "data": {
      "text/plain": [
       "array([[50], [46, 62, 41, 50], [49, 14, 55, 64, 14, 15], [48],\n",
       "       [41, 42, 59, 24, 65, 26, 60], [64, 59, 48, 46, 48, 62], [],\n",
       "       [59, 50, 41, 42, 59], [46, 65], [49, 50], [58, 58, 55],\n",
       "       [58, 59, 60], [64, 64, 65], []], dtype=object)"
      ]
     },
     "execution_count": 28,
     "metadata": {},
     "output_type": "execute_result"
    }
   ],
   "source": [
    "y_train"
   ]
  },
  {
   "cell_type": "code",
   "execution_count": 30,
   "metadata": {
    "collapsed": false
   },
   "outputs": [
    {
     "data": {
      "text/plain": [
       "{' ': 61,\n",
       " \"'\": 49,\n",
       " ',': 36,\n",
       " '.': 66,\n",
       " 'A': 38,\n",
       " 'T': 20,\n",
       " 'a': 26,\n",
       " 'c': 14,\n",
       " 'd': 65,\n",
       " 'e': 58,\n",
       " 'f': 52,\n",
       " 'g': 62,\n",
       " 'h': 41,\n",
       " 'i': 46,\n",
       " 'k': 15,\n",
       " 'l': 55,\n",
       " 'm': 29,\n",
       " 'n': 48,\n",
       " 'o': 64,\n",
       " 'r': 59,\n",
       " 's': 24,\n",
       " 't': 50,\n",
       " 'u': 42,\n",
       " 'v': 57,\n",
       " 'y': 60}"
      ]
     },
     "execution_count": 30,
     "metadata": {},
     "output_type": "execute_result"
    }
   ],
   "source": [
    "word_to_index"
   ]
  },
  {
   "cell_type": "markdown",
   "metadata": {},
   "source": [
    "#Reading the datasets: "
   ]
  },
  {
   "cell_type": "code",
   "execution_count": 116,
   "metadata": {
    "collapsed": true
   },
   "outputs": [],
   "source": [
    "#read first 10 lines of english file\n",
    "from itertools import islice\n",
    "with open(\"fr-en/europarl-v7.fr-en.en\") as en_file:\n",
    "    head = list(islice(en_file, 10))\n",
    "print head"
   ]
  },
  {
   "cell_type": "code",
   "execution_count": null,
   "metadata": {
    "collapsed": false
   },
   "outputs": [],
   "source": [
    "english= open (\"fr-en/europarl-v7.fr-en.en\",\"r\")\n",
    "french= open (\"fr-en/europarl-v7.fr-en.fr\",\"r\")"
   ]
  },
  {
   "cell_type": "code",
   "execution_count": 251,
   "metadata": {
    "collapsed": true
   },
   "outputs": [],
   "source": [
    "#tokenizing with nltk"
   ]
  },
  {
   "cell_type": "code",
   "execution_count": null,
   "metadata": {
    "collapsed": false
   },
   "outputs": [],
   "source": [
    "import itertools\n",
    "chain_en_sentences = itertools.chain(*[nltk.sent_tokenize(x[0]) for x in english])\n",
    "en_sentences=[(x) for x in chain_en_sentences]\n",
    "\n",
    "chain_fr_sentences = itertools.chain(*[nltk.sent_tokenize(y[0]) for y in french])\n",
    "fr_sentences=[(x) for y in chain_fr_sentences]"
   ]
  },
  {
   "cell_type": "code",
   "execution_count": null,
   "metadata": {
    "collapsed": false
   },
   "outputs": [],
   "source": [
    "#total number of sentences in English file\n",
    "len(en_sentences)"
   ]
  },
  {
   "cell_type": "code",
   "execution_count": null,
   "metadata": {
    "collapsed": false
   },
   "outputs": [],
   "source": [
    "#total number of sentences in French file\n",
    "len(fr_sentences)"
   ]
  },
  {
   "cell_type": "code",
   "execution_count": null,
   "metadata": {
    "collapsed": false
   },
   "outputs": [],
   "source": [
    "en_tokenized_sentences = [nltk.word_tokenize(sent) for sent in en_sentences]\n",
    "fr_tokenized_sentences = [nltk.word_tokenize(sent) for sent in fr_sentences]"
   ]
  },
  {
   "cell_type": "code",
   "execution_count": 189,
   "metadata": {
    "collapsed": false
   },
   "outputs": [],
   "source": [
    "#word frequency in English file\n",
    "en_word_freq = nltk.FreqDist(itertools.chain(*en_tokenized_sentences))\n",
    "print \"Found %d unique words tokens.\" % len(en_word_freq.items())\n"
   ]
  },
  {
   "cell_type": "code",
   "execution_count": null,
   "metadata": {
    "collapsed": false
   },
   "outputs": [],
   "source": []
  },
  {
   "cell_type": "code",
   "execution_count": 247,
   "metadata": {
    "collapsed": false
   },
   "outputs": [],
   "source": [
    "#Hashing with direct tokenizing\n",
    "word_count = 0\n",
    "class VocabItem:\n",
    "    def __init__(self, word):\n",
    "        self.word = word\n",
    "        self.count = 0\n",
    "        self.path = None # Path (list of indices) from the root to the word (leaf)\n",
    "        self.code = None # Huffman encoding\n",
    "\n",
    "vocab_hash = {}\n",
    "vocab_items = []\n",
    "for line in english:\n",
    "    tokens = line.split()\n",
    "    for token in tokens:#en_tokenized_sentences:\n",
    "        if token not in vocab_hash:\n",
    "            vocab_hash[token] = len(vocab_items)\n",
    "            vocab_items.append(VocabItem(token))\n",
    "            vocab_items[vocab_hash[token]].count += 1\n",
    "    word_count += 1"
   ]
  },
  {
   "cell_type": "code",
   "execution_count": 248,
   "metadata": {
    "collapsed": false
   },
   "outputs": [
    {
     "data": {
      "text/plain": [
       "2007723"
      ]
     },
     "execution_count": 248,
     "metadata": {},
     "output_type": "execute_result"
    }
   ],
   "source": [
    "word_count"
   ]
  },
  {
   "cell_type": "code",
   "execution_count": null,
   "metadata": {
    "collapsed": false
   },
   "outputs": [],
   "source": [
    "#Hashing with nltk tokenizer\n",
    "word_count = 0\n",
    "class VocabItem:\n",
    "    def __init__(self, word):\n",
    "        self.word = word\n",
    "        self.count = 0\n",
    "        self.path = None # Path (list of indices) from the root to the word (leaf)\n",
    "        self.code = None # Huffman encoding\n",
    "\n",
    "vocab_hash = {}\n",
    "vocab_items = []\n",
    "\n",
    "for token in en_tokenized_sentences:\n",
    "    if token not in vocab_hash:\n",
    "        vocab_hash[token] = len(vocab_items)\n",
    "        vocab_items.append(VocabItem(token))\n",
    "        vocab_items[vocab_hash[token]].count += 1\n",
    "    word_count += 1"
   ]
  },
  {
   "cell_type": "code",
   "execution_count": null,
   "metadata": {
    "collapsed": false
   },
   "outputs": [],
   "source": []
  },
  {
   "cell_type": "code",
   "execution_count": null,
   "metadata": {
    "collapsed": false
   },
   "outputs": [],
   "source": []
  },
  {
   "cell_type": "markdown",
   "metadata": {},
   "source": []
  },
  {
   "cell_type": "code",
   "execution_count": null,
   "metadata": {
    "collapsed": false
   },
   "outputs": [],
   "source": []
  },
  {
   "cell_type": "code",
   "execution_count": null,
   "metadata": {
    "collapsed": false
   },
   "outputs": [],
   "source": []
  },
  {
   "cell_type": "code",
   "execution_count": null,
   "metadata": {
    "collapsed": false
   },
   "outputs": [],
   "source": []
  },
  {
   "cell_type": "code",
   "execution_count": null,
   "metadata": {
    "collapsed": true
   },
   "outputs": [],
   "source": []
  },
  {
   "cell_type": "code",
   "execution_count": null,
   "metadata": {
    "collapsed": false
   },
   "outputs": [],
   "source": []
  },
  {
   "cell_type": "code",
   "execution_count": null,
   "metadata": {
    "collapsed": true
   },
   "outputs": [],
   "source": []
  }
 ],
 "metadata": {
  "kernelspec": {
   "display_name": "Python 2",
   "language": "python",
   "name": "python2"
  },
  "language_info": {
   "codemirror_mode": {
    "name": "ipython",
    "version": 2
   },
   "file_extension": ".py",
   "mimetype": "text/x-python",
   "name": "python",
   "nbconvert_exporter": "python",
   "pygments_lexer": "ipython2",
   "version": "2.7.12"
  }
 },
 "nbformat": 4,
 "nbformat_minor": 0
}
